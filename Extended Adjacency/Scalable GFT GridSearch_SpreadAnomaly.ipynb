{
 "cells": [
  {
   "cell_type": "code",
   "execution_count": 1,
   "metadata": {},
   "outputs": [
    {
     "name": "stdout",
     "output_type": "stream",
     "text": [
      ">> Functions loaded from diffusion_functions.py\n"
     ]
    }
   ],
   "source": [
    "# INIT\n",
    "\n",
    "import random\n",
    "import collections\n",
    "import numpy as np\n",
    "import plotly\n",
    "import plotly.plotly as py\n",
    "import plotly.tools as tls\n",
    "import matplotlib.pyplot as plt\n",
    "import pandas as pd\n",
    "import time\n",
    "import datetime\n",
    "import scipy as sp\n",
    "import copy as cp\n",
    "import pickle\n",
    "import diffusion_functions as dm\n",
    "from sklearn.metrics import f1_score, confusion_matrix\n",
    "from sklearn.preprocessing import normalize\n",
    "from sklearn.base import BaseEstimator, ClassifierMixin\n",
    "from sklearn.model_selection import GridSearchCV, train_test_split\n",
    "from pygsp import graphs, filters, plotting\n",
    "from jupyterthemes import jtplot\n",
    "from scipy.linalg import eig\n",
    "from IPython import display\n",
    "import warnings\n",
    "\n",
    "plotting.BACKEND = 'matplotlib'\n",
    "# plt.rcParams['figure.figsize'] = (8.0, 4.0) # set default size of plots\n",
    "# plt.rcParams['image.interpolation'] = 'nearest'\n",
    "# plt.rcParams['font.family'] = 'Times New Roman'\n",
    "# plt.rcParams['font.size'] = 12\n",
    "# plt.rcParams['image.cmap'] = 'gray'\n",
    "\n",
    "jtplot.style(grid=False, figsize=(15, 10))\n",
    "plt.rcParams['image.interpolation'] = 'nearest'\n",
    "plt.rcParams['font.family'] = 'Times New Roman'\n",
    "plt.rcParams['font.size'] = 12\n",
    "\n",
    "np.set_printoptions(precision=3,linewidth=250,suppress=True)\n"
   ]
  },
  {
   "cell_type": "code",
   "execution_count": 2,
   "metadata": {
    "collapsed": true
   },
   "outputs": [],
   "source": [
    "plt.rcParams['text.usetex'] = True\n",
    "jtplot.style(grid=False, figsize=(8, 6))\n",
    "plt.rcParams['image.interpolation'] = 'nearest'\n",
    "plt.rcParams['font.family'] = 'Times New Roman'\n",
    "\n",
    "fontsize = 12\n",
    "plt.rcParams['font.size'] = fontsize\n",
    "plt.rcParams['legend.fontsize'] = fontsize\n",
    "plt.rcParams['axes.titlesize'] = fontsize\n",
    "plt.rcParams['axes.labelsize'] = fontsize\n",
    "# plt.rcParams['mathtext.fontset'] = 'custom'\n",
    "# plt.rcParams['mathtext.rm'] = 'DejaVu Sans'\n",
    "# plt.rcParams['mathtext.it'] = 'asd:italic'\n",
    "# plt.rcParams['mathtext.bf'] = 'DejaVu Sans:bold'"
   ]
  },
  {
   "cell_type": "code",
   "execution_count": 3,
   "metadata": {
    "collapsed": true
   },
   "outputs": [],
   "source": [
    "# GSP\n",
    "\n",
    "# Adjacency matrix functions\n",
    "#Extended adjacency matrix based on diffusion distances\n",
    "def extended(M,t,rho=None):\n",
    "    N = M.shape[1]\n",
    "    Mt = np.linalg.matrix_power(M,t)\n",
    "    dds_pre = np.sum((np.kron(Mt,np.ones((N,1))) - np.kron(np.ones((N,1)),Mt))**2,axis=1)\n",
    "    dds = N*np.reshape(dds_pre,(N,N));\n",
    "    if not rho:\n",
    "        rho = 2*np.var(dds_pre)\n",
    "    At = M + np.exp(-dds/(rho*N))\n",
    "    np.fill_diagonal(At,0)\n",
    "    return At\n",
    "\n",
    "#RBF-kernel adjacency matrix from positions\n",
    "def kernel_dist(A,pos,rho=None):\n",
    "    N = A.shape[1]\n",
    "    W = np.zeros((N,N))\n",
    "    if not rho:\n",
    "        rho = 2*np.mean(np.var(pos,axis=1))\n",
    "    for i in range(N):\n",
    "        for j in range(N):\n",
    "            W[i,j] = np.exp(-np.linalg.norm(pos[i,:]-pos[j,:])**2/rho)*A[i,j]\n",
    "            W[j,i] = W[i,j]\n",
    "    return W\n",
    "\n",
    "#Dijkstra algorithm computes shortest paths\n",
    "def dijkstra(W, source):\n",
    "    N = len(W)\n",
    "    vertices = range(N);\n",
    "    with np.errstate(divide='ignore'):\n",
    "        D = 1/W\n",
    "    #vertices, edges = graph\n",
    "    dist = dict()\n",
    "    previous = dict()\n",
    "    hops = dict()\n",
    "\n",
    "    for vertex in vertices:\n",
    "        dist[vertex] = float(\"inf\")\n",
    "        previous[vertex] = -1\n",
    "        hops[vertex] = 0\n",
    "\n",
    "    dist[source] = 0\n",
    "    Q = list(vertices)\n",
    "\n",
    "    while len(Q) > 0:\n",
    "        #u = minimum_distance(dist, Q)\n",
    "        dists = [dist[l] for l in Q]\n",
    "        u = Q.pop(np.argmin(dists))\n",
    "#         print('Currently considering', u, 'with a distance of', dist[u])\n",
    "\n",
    "        if dist[u] == float('inf'):\n",
    "            break\n",
    "\n",
    "        #n = get_neighbours(graph, u)\n",
    "        n = list(np.nonzero(W[u,:])[0])\n",
    "        for vertex in n:\n",
    "            alt = dist[u] + D[u, vertex]\n",
    "            if alt < dist[vertex]:\n",
    "                dist[vertex] = alt\n",
    "                previous[vertex] = u\n",
    "                \n",
    "    for v in range(N):\n",
    "        u = v*1\n",
    "        while previous[u]!=-1:\n",
    "            u = previous[u]\n",
    "            hops[v]=hops[v]+1\n",
    "\n",
    "    return previous,hops,dist\n",
    "        \n",
    "# Extended adjacency matrix based on shortest-paths    \n",
    "def Spath(W,hops):\n",
    "    dijk = dict();\n",
    "    for n in range(N):\n",
    "        dijk[n] = {'prev':{},'hops':{},'dist':{}}\n",
    "        dijk[n]['prev'],dijk[n]['hops'],dijk[n]['dist'] = dijkstra(W,n)\n",
    "    Spath = np.zeros((N,N))\n",
    "    for hop in range(1,hops+1):\n",
    "        for n in range(N):\n",
    "            Spath[n,:] = Spath[n,:] + (np.array(dijk[n]['hops'].values())==hop)*np.array(dijk[n]['dist'].values())\n",
    "    \n",
    "    return np.divide(1.,Spath,out=np.zeros_like(Spath), where=Spath!=0)\n",
    "\n",
    "# Computes Laplacian from adjacency\n",
    "def getL(A):\n",
    "    return np.diag(A.sum(axis=0)) - A\n",
    "\n",
    "\n",
    "#COMPUTES GFT\n",
    "def GFT(Shift,signal):\n",
    "    #Decomposition\n",
    "    M_values, M_vr = np.linalg.eigh(Shift)\n",
    "\n",
    "    #Sorting (ASCENDING)\n",
    "    idx = np.argsort(M_values)\n",
    "    M_values = M_values[idx]\n",
    "    M_vr = M_vr[:,idx]\n",
    "\n",
    "    signal_hat = M_vr.T.dot(signal)\n",
    "    return signal_hat,M_values\n",
    "    "
   ]
  },
  {
   "cell_type": "code",
   "execution_count": 4,
   "metadata": {
    "collapsed": true
   },
   "outputs": [],
   "source": [
    "#-------------------CLASSIFIERS---------------------#\n",
    "class Diffusion_GFT_Classifier(BaseEstimator, ClassifierMixin):\n",
    "    def __init__(self, M, t, lambda_factor=0.3, tau_factor=0.5, rho=0.5):\n",
    "        self.lambda_factor = lambda_factor\n",
    "        self.tau_factor = tau_factor\n",
    "        self.rho = rho\n",
    "        self.M = M\n",
    "        self.t = t\n",
    "        self.K = tau_factor+10\n",
    "\n",
    "    def fit(self, signalT, anomaly):\n",
    "        self.Shift_ = extended(M=self.M, t=self.t, rho=self.rho)\n",
    "        self.L = np.diag(self.Shift_.sum(axis=0))-self.Shift_\n",
    "        self.lambdas_ = np.linalg.eigvalsh(self.L)\n",
    "        signal = signalT.transpose()\n",
    "        healthy = signal[:,anomaly==0]\n",
    "        coeffs,lambdas = GFT( self.L, healthy)\n",
    "        mask = lambdas>self.lambda_factor*lambdas.max()\n",
    "        filtered = np.abs(coeffs[mask,:])\n",
    "        tau_partials = np.max(filtered,axis=0)\n",
    "        self.mintau_ = np.min(tau_partials)\n",
    "        self.maxtau_ = np.max(tau_partials)\n",
    "        self.tau_ = np.mean(tau_partials) + self.tau_factor*np.std(tau_partials)\n",
    "        return self\n",
    "        \n",
    "    def predict(self, signalT):\n",
    "        signal = signalT.transpose()\n",
    "        coeffs, lambdas = GFT(self.L, signal)\n",
    "        mask = lambdas>self.lambda_factor*lambdas.max()\n",
    "        filtered = np.abs(coeffs[mask,:])\n",
    "        tau_predicted = np.max(filtered,axis=0)\n",
    "        detection = tau_predicted>self.tau_\n",
    "        return detection\n",
    "        \n",
    "    def score(self, signal, anomaly):\n",
    "        return f1_score(anomaly, self.predict(signal))\n",
    "    \n",
    "    def roc_generator(self, signalT, y):\n",
    "        signal = signalT.transpose()\n",
    "        coeffs, lambdas = GFT(self.L, signal)\n",
    "        mask = lambdas>self.lambda_factor*lambdas.max()\n",
    "        filtered = np.abs(coeffs[mask,:])\n",
    "        tau_predicted = np.max(filtered,axis=0)\n",
    "        \n",
    "        tpr = []\n",
    "        fpr = []\n",
    "        for roctau in np.linspace(start=self.mintau_,stop=5*self.maxtau_,num=500):\n",
    "\n",
    "            detection = tau_predicted>roctau\n",
    "            cm = confusion_matrix(y, detection)\n",
    "            cm_norm = cm.astype('float')/np.sum(cm,axis=1)\n",
    "            tpr.append(cm_norm[1,1])\n",
    "            fpr.append(cm_norm[0,1])\n",
    "            \n",
    "        return tpr,fpr    \n",
    "\n",
    "#-----------------------------------------------------------#\n",
    "class Classic_GFT_Classifier(BaseEstimator, ClassifierMixin):\n",
    "    def __init__(self, L, lambda_factor=0.3, tau_factor=0.5):\n",
    "        self.lambda_factor = lambda_factor\n",
    "        self.tau_factor = tau_factor\n",
    "        self.L = L\n",
    "        self.lambdas_ = np.linalg.eigvalsh(L)\n",
    "\n",
    "    def fit(self, signalT, anomaly):\n",
    "        signal = signalT.transpose()\n",
    "        healthy = signal[:,anomaly==0]\n",
    "        coeffs,lambdas = GFT( self.L, healthy)\n",
    "        \n",
    "        mask = lambdas>self.lambda_factor*lambdas.max()\n",
    "        filtered = np.abs(coeffs[mask,:])\n",
    "        tau_partials = np.max(filtered,axis=0)\n",
    "        self.mintau_ = np.min(tau_partials)\n",
    "        self.maxtau_ = np.max(tau_partials)\n",
    "        self.tau_ = np.mean(tau_partials) + self.tau_factor*np.std(tau_partials)\n",
    "        return self\n",
    "        \n",
    "    def predict(self, signalT):\n",
    "        signal = signalT.transpose()\n",
    "        coeffs, lambdas = GFT(self.L, signal)\n",
    "        mask = lambdas>self.lambda_factor*lambdas.max()\n",
    "        filtered = np.abs(coeffs[mask,:])\n",
    "        tau_predicted = np.max(filtered,axis=0)\n",
    "        detection = tau_predicted>self.tau_\n",
    "        return detection\n",
    "        \n",
    "    def score(self, signal, anomaly):\n",
    "        return f1_score(anomaly, self.predict(signal))\n",
    "    \n",
    "    def roc_generator(self, signalT, y):\n",
    "        signal = signalT.transpose()\n",
    "        coeffs, lambdas = GFT(self.L, signal)\n",
    "        mask = lambdas>self.lambda_factor*lambdas.max()\n",
    "        filtered = np.abs(coeffs[mask,:])\n",
    "        tau_predicted = np.max(filtered,axis=0)\n",
    "        \n",
    "        tpr = []\n",
    "        fpr = []\n",
    "        for roctau in np.linspace(start=self.mintau_,stop=5*self.maxtau_,num=500):\n",
    "\n",
    "            detection = tau_predicted>roctau\n",
    "            cm = confusion_matrix(y, detection)\n",
    "            cm_norm = cm.astype('float')/np.sum(cm,axis=1)\n",
    "            tpr.append(cm_norm[1,1])\n",
    "            fpr.append(cm_norm[0,1])\n",
    "            \n",
    "        return tpr,fpr           \n",
    "\n",
    "#-----------------------------------------------------------#\n",
    "class Markov_GFT_Classifier(BaseEstimator, ClassifierMixin):\n",
    "    def __init__(self, Transform, lambdas, lambda_factor=0.3, tau_factor=0.5):\n",
    "        self.lambda_factor = lambda_factor\n",
    "        self.tau_factor = tau_factor\n",
    "        self.Transform = Transform\n",
    "        self.lambdas = lambdas\n",
    "\n",
    "    def fit(self, signalT, anomaly):\n",
    "        signal = signalT.transpose()\n",
    "        healthy = signal[:,anomaly==0]\n",
    "        coeffs = self.Transform.dot(healthy)        \n",
    "        mask = self.lambdas<self.lambda_factor*self.lambdas.max()\n",
    "        filtered = np.abs(coeffs[mask,:])\n",
    "        tau_partials = np.max(filtered,axis=0)\n",
    "        self.mintau_ = np.min(tau_partials)\n",
    "        self.maxtau_ = np.max(tau_partials)\n",
    "        self.tau_ = np.mean(tau_partials) + self.tau_factor*np.std(tau_partials)\n",
    "        return self\n",
    "        \n",
    "    def predict(self, signalT):\n",
    "        signal = signalT.transpose()\n",
    "        coeffs = self.Transform.dot(signal)        \n",
    "        mask = self.lambdas<self.lambda_factor*self.lambdas.max()\n",
    "        \n",
    "        filtered = np.abs(coeffs[mask,:])\n",
    "        tau_predicted = np.max(filtered,axis=0)\n",
    "        detection = tau_predicted>self.tau_\n",
    "        return detection\n",
    "        \n",
    "    def score(self, signal, anomaly):\n",
    "        return f1_score(anomaly, self.predict(signal))         \n"
   ]
  },
  {
   "cell_type": "code",
   "execution_count": 5,
   "metadata": {
    "collapsed": true,
    "scrolled": true
   },
   "outputs": [],
   "source": [
    "np.random.seed(seed=0)\n",
    "N = 100\n",
    "k_neighbors = 4\n",
    "disconnected = True\n",
    "while disconnected:\n",
    "    features = np.random.rand(N,2)\n",
    "    s = np.ones((N,1))\n",
    "\n",
    "    G = graphs.NNGraph(features,k=k_neighbors,center=False, rescale=False)\n",
    "    disconnected = not G.is_connected()\n",
    "A = G.A.toarray()*1.\n",
    "W = G.W.toarray()*1.\n",
    "L_a = np.diag(A.sum(axis=0)) - A\n",
    "L_w = np.diag(W.sum(axis=0)) - W\n",
    "\n",
    "epsilon = 1./(np.max(A.sum(axis=0))*1.25)\n",
    "M_a = np.eye(N) - epsilon*L_a\n",
    "\n",
    "n_hops=3\n",
    "A_sp = np.zeros((N,N,n_hops))\n",
    "L_sp = np.zeros((N,N,n_hops))\n",
    "for h in range(1,n_hops+1):\n",
    "    A_sp[:,:,h-1] = Spath(A,h)\n",
    "    L_sp[:,:,h-1] = np.diag(A_sp[:,:,h-1].sum(axis=0)) - A_sp[:,:,h-1]\n",
    "    \n",
    "#Heimowitz\n",
    "D = np.diag(A.sum(axis=0))\n",
    "M = np.linalg.inv(D).dot(A)\n",
    "lambdas_heimowitz,eigenvectors_heimowitz = np.linalg.eig(M)\n",
    "sort_idx = np.argsort(lambdas_heimowitz)\n",
    "lambdas_heimowitz = lambdas_heimowitz[sort_idx]-lambdas_heimowitz.min()\n",
    "eigenvectors_heimowitz = eigenvectors_heimowitz[:,sort_idx]\n",
    "transform_heimowitz = np.linalg.inv(eigenvectors_heimowitz)"
   ]
  },
  {
   "cell_type": "markdown",
   "metadata": {},
   "source": [
    "## MC Runs"
   ]
  },
  {
   "cell_type": "code",
   "execution_count": 6,
   "metadata": {
    "scrolled": true
   },
   "outputs": [
    {
     "name": "stdout",
     "output_type": "stream",
     "text": [
      "0\n",
      "[ 0.924  0.     0.     0.     0.     0.     0.     0.     0.     0.     0.     0.     0.     0.     0.     0.     0.     0.     0.     0.     0.     0.     0.     0.     0.   ]\n",
      "[ 0.989  0.     0.     0.     0.     0.     0.     0.     0.     0.     0.     0.     0.     0.     0.     0.     0.     0.     0.     0.     0.     0.     0.     0.     0.   ]\n",
      "[ 1.  0.  0.  0.  0.  0.  0.  0.  0.  0.  0.  0.  0.  0.  0.  0.  0.  0.  0.  0.  0.  0.  0.  0.  0.]\n",
      "[ 0.997  0.     0.     0.     0.     0.     0.     0.     0.     0.     0.     0.     0.     0.     0.     0.     0.     0.     0.     0.     0.     0.     0.     0.     0.   ]\n",
      "[ 0.916  0.     0.     0.     0.     0.     0.     0.     0.     0.     0.     0.     0.     0.     0.     0.     0.     0.     0.     0.     0.     0.     0.     0.     0.   ]\n",
      "[ 0.798  0.     0.     0.     0.     0.     0.     0.     0.     0.     0.     0.     0.     0.     0.     0.     0.     0.     0.     0.     0.     0.     0.     0.     0.   ]\n",
      "1\n",
      "[ 0.924  0.979  0.     0.     0.     0.     0.     0.     0.     0.     0.     0.     0.     0.     0.     0.     0.     0.     0.     0.     0.     0.     0.     0.     0.   ]\n",
      "[ 0.989  0.989  0.     0.     0.     0.     0.     0.     0.     0.     0.     0.     0.     0.     0.     0.     0.     0.     0.     0.     0.     0.     0.     0.     0.   ]\n",
      "[ 1.     0.989  0.     0.     0.     0.     0.     0.     0.     0.     0.     0.     0.     0.     0.     0.     0.     0.     0.     0.     0.     0.     0.     0.     0.   ]\n",
      "[ 0.997  0.887  0.     0.     0.     0.     0.     0.     0.     0.     0.     0.     0.     0.     0.     0.     0.     0.     0.     0.     0.     0.     0.     0.     0.   ]\n",
      "[ 0.916  0.853  0.     0.     0.     0.     0.     0.     0.     0.     0.     0.     0.     0.     0.     0.     0.     0.     0.     0.     0.     0.     0.     0.     0.   ]\n",
      "[ 0.798  0.691  0.     0.     0.     0.     0.     0.     0.     0.     0.     0.     0.     0.     0.     0.     0.     0.     0.     0.     0.     0.     0.     0.     0.   ]\n",
      "2\n",
      "[ 0.924  0.979  0.83   0.     0.     0.     0.     0.     0.     0.     0.     0.     0.     0.     0.     0.     0.     0.     0.     0.     0.     0.     0.     0.     0.   ]\n",
      "[ 0.989  0.989  0.968  0.     0.     0.     0.     0.     0.     0.     0.     0.     0.     0.     0.     0.     0.     0.     0.     0.     0.     0.     0.     0.     0.   ]\n",
      "[ 1.     0.989  0.993  0.     0.     0.     0.     0.     0.     0.     0.     0.     0.     0.     0.     0.     0.     0.     0.     0.     0.     0.     0.     0.     0.   ]\n",
      "[ 0.997  0.887  0.963  0.     0.     0.     0.     0.     0.     0.     0.     0.     0.     0.     0.     0.     0.     0.     0.     0.     0.     0.     0.     0.     0.   ]\n",
      "[ 0.916  0.853  0.99   0.     0.     0.     0.     0.     0.     0.     0.     0.     0.     0.     0.     0.     0.     0.     0.     0.     0.     0.     0.     0.     0.   ]\n",
      "[ 0.798  0.691  0.257  0.     0.     0.     0.     0.     0.     0.     0.     0.     0.     0.     0.     0.     0.     0.     0.     0.     0.     0.     0.     0.     0.   ]\n",
      "3\n",
      "[ 0.924  0.979  0.83   1.     0.     0.     0.     0.     0.     0.     0.     0.     0.     0.     0.     0.     0.     0.     0.     0.     0.     0.     0.     0.     0.   ]\n",
      "[ 0.989  0.989  0.968  1.     0.     0.     0.     0.     0.     0.     0.     0.     0.     0.     0.     0.     0.     0.     0.     0.     0.     0.     0.     0.     0.   ]\n",
      "[ 1.     0.989  0.993  1.     0.     0.     0.     0.     0.     0.     0.     0.     0.     0.     0.     0.     0.     0.     0.     0.     0.     0.     0.     0.     0.   ]\n",
      "[ 0.997  0.887  0.963  0.987  0.     0.     0.     0.     0.     0.     0.     0.     0.     0.     0.     0.     0.     0.     0.     0.     0.     0.     0.     0.     0.   ]\n",
      "[ 0.916  0.853  0.99   0.866  0.     0.     0.     0.     0.     0.     0.     0.     0.     0.     0.     0.     0.     0.     0.     0.     0.     0.     0.     0.     0.   ]\n",
      "[ 0.798  0.691  0.257  0.997  0.     0.     0.     0.     0.     0.     0.     0.     0.     0.     0.     0.     0.     0.     0.     0.     0.     0.     0.     0.     0.   ]\n",
      "4\n",
      "[ 0.924  0.979  0.83   1.     0.941  0.     0.     0.     0.     0.     0.     0.     0.     0.     0.     0.     0.     0.     0.     0.     0.     0.     0.     0.     0.   ]\n",
      "[ 0.989  0.989  0.968  1.     0.965  0.     0.     0.     0.     0.     0.     0.     0.     0.     0.     0.     0.     0.     0.     0.     0.     0.     0.     0.     0.   ]\n",
      "[ 1.     0.989  0.993  1.     1.     0.     0.     0.     0.     0.     0.     0.     0.     0.     0.     0.     0.     0.     0.     0.     0.     0.     0.     0.     0.   ]\n",
      "[ 0.997  0.887  0.963  0.987  0.875  0.     0.     0.     0.     0.     0.     0.     0.     0.     0.     0.     0.     0.     0.     0.     0.     0.     0.     0.     0.   ]\n",
      "[ 0.916  0.853  0.99   0.866  0.87   0.     0.     0.     0.     0.     0.     0.     0.     0.     0.     0.     0.     0.     0.     0.     0.     0.     0.     0.     0.   ]\n",
      "[ 0.798  0.691  0.257  0.997  0.242  0.     0.     0.     0.     0.     0.     0.     0.     0.     0.     0.     0.     0.     0.     0.     0.     0.     0.     0.     0.   ]\n",
      "5\n",
      "[ 0.924  0.979  0.83   1.     0.941  0.97   0.     0.     0.     0.     0.     0.     0.     0.     0.     0.     0.     0.     0.     0.     0.     0.     0.     0.     0.   ]\n",
      "[ 0.989  0.989  0.968  1.     0.965  0.993  0.     0.     0.     0.     0.     0.     0.     0.     0.     0.     0.     0.     0.     0.     0.     0.     0.     0.     0.   ]\n",
      "[ 1.     0.989  0.993  1.     1.     1.     0.     0.     0.     0.     0.     0.     0.     0.     0.     0.     0.     0.     0.     0.     0.     0.     0.     0.     0.   ]\n",
      "[ 0.997  0.887  0.963  0.987  0.875  1.     0.     0.     0.     0.     0.     0.     0.     0.     0.     0.     0.     0.     0.     0.     0.     0.     0.     0.     0.   ]\n",
      "[ 0.916  0.853  0.99   0.866  0.87   0.964  0.     0.     0.     0.     0.     0.     0.     0.     0.     0.     0.     0.     0.     0.     0.     0.     0.     0.     0.   ]\n",
      "[ 0.798  0.691  0.257  0.997  0.242  0.664  0.     0.     0.     0.     0.     0.     0.     0.     0.     0.     0.     0.     0.     0.     0.     0.     0.     0.     0.   ]\n",
      "6\n",
      "[ 0.924  0.979  0.83   1.     0.941  0.97   0.879  0.     0.     0.     0.     0.     0.     0.     0.     0.     0.     0.     0.     0.     0.     0.     0.     0.     0.   ]\n",
      "[ 0.989  0.989  0.968  1.     0.965  0.993  1.     0.     0.     0.     0.     0.     0.     0.     0.     0.     0.     0.     0.     0.     0.     0.     0.     0.     0.   ]\n",
      "[ 1.     0.989  0.993  1.     1.     1.     1.     0.     0.     0.     0.     0.     0.     0.     0.     0.     0.     0.     0.     0.     0.     0.     0.     0.     0.   ]\n",
      "[ 0.997  0.887  0.963  0.987  0.875  1.     0.753  0.     0.     0.     0.     0.     0.     0.     0.     0.     0.     0.     0.     0.     0.     0.     0.     0.     0.   ]\n",
      "[ 0.916  0.853  0.99   0.866  0.87   0.964  0.73   0.     0.     0.     0.     0.     0.     0.     0.     0.     0.     0.     0.     0.     0.     0.     0.     0.     0.   ]\n",
      "[ 0.798  0.691  0.257  0.997  0.242  0.664  0.677  0.     0.     0.     0.     0.     0.     0.     0.     0.     0.     0.     0.     0.     0.     0.     0.     0.     0.   ]\n",
      "7\n",
      "[ 0.924  0.979  0.83   1.     0.941  0.97   0.879  0.872  0.     0.     0.     0.     0.     0.     0.     0.     0.     0.     0.     0.     0.     0.     0.     0.     0.   ]\n",
      "[ 0.989  0.989  0.968  1.     0.965  0.993  1.     0.966  0.     0.     0.     0.     0.     0.     0.     0.     0.     0.     0.     0.     0.     0.     0.     0.     0.   ]\n",
      "[ 1.     0.989  0.993  1.     1.     1.     1.     1.     0.     0.     0.     0.     0.     0.     0.     0.     0.     0.     0.     0.     0.     0.     0.     0.     0.   ]\n",
      "[ 0.997  0.887  0.963  0.987  0.875  1.     0.753  0.911  0.     0.     0.     0.     0.     0.     0.     0.     0.     0.     0.     0.     0.     0.     0.     0.     0.   ]\n",
      "[ 0.916  0.853  0.99   0.866  0.87   0.964  0.73   0.699  0.     0.     0.     0.     0.     0.     0.     0.     0.     0.     0.     0.     0.     0.     0.     0.     0.   ]\n",
      "[ 0.798  0.691  0.257  0.997  0.242  0.664  0.677  0.879  0.     0.     0.     0.     0.     0.     0.     0.     0.     0.     0.     0.     0.     0.     0.     0.     0.   ]\n",
      "8\n"
     ]
    },
    {
     "name": "stdout",
     "output_type": "stream",
     "text": [
      "[ 0.924  0.979  0.83   1.     0.941  0.97   0.879  0.872  0.943  0.     0.     0.     0.     0.     0.     0.     0.     0.     0.     0.     0.     0.     0.     0.     0.   ]\n",
      "[ 0.989  0.989  0.968  1.     0.965  0.993  1.     0.966  0.997  0.     0.     0.     0.     0.     0.     0.     0.     0.     0.     0.     0.     0.     0.     0.     0.   ]\n",
      "[ 1.     0.989  0.993  1.     1.     1.     1.     1.     0.972  0.     0.     0.     0.     0.     0.     0.     0.     0.     0.     0.     0.     0.     0.     0.     0.   ]\n",
      "[ 0.997  0.887  0.963  0.987  0.875  1.     0.753  0.911  0.987  0.     0.     0.     0.     0.     0.     0.     0.     0.     0.     0.     0.     0.     0.     0.     0.   ]\n",
      "[ 0.916  0.853  0.99   0.866  0.87   0.964  0.73   0.699  0.552  0.     0.     0.     0.     0.     0.     0.     0.     0.     0.     0.     0.     0.     0.     0.     0.   ]\n",
      "[ 0.798  0.691  0.257  0.997  0.242  0.664  0.677  0.879  0.908  0.     0.     0.     0.     0.     0.     0.     0.     0.     0.     0.     0.     0.     0.     0.     0.   ]\n",
      "9\n",
      "[ 0.924  0.979  0.83   1.     0.941  0.97   0.879  0.872  0.943  0.871  0.     0.     0.     0.     0.     0.     0.     0.     0.     0.     0.     0.     0.     0.     0.   ]\n",
      "[ 0.989  0.989  0.968  1.     0.965  0.993  1.     0.966  0.997  0.95   0.     0.     0.     0.     0.     0.     0.     0.     0.     0.     0.     0.     0.     0.     0.   ]\n",
      "[ 1.     0.989  0.993  1.     1.     1.     1.     1.     0.972  1.     0.     0.     0.     0.     0.     0.     0.     0.     0.     0.     0.     0.     0.     0.     0.   ]\n",
      "[ 0.997  0.887  0.963  0.987  0.875  1.     0.753  0.911  0.987  1.     0.     0.     0.     0.     0.     0.     0.     0.     0.     0.     0.     0.     0.     0.     0.   ]\n",
      "[ 0.916  0.853  0.99   0.866  0.87   0.964  0.73   0.699  0.552  0.932  0.     0.     0.     0.     0.     0.     0.     0.     0.     0.     0.     0.     0.     0.     0.   ]\n",
      "[ 0.798  0.691  0.257  0.997  0.242  0.664  0.677  0.879  0.908  0.01   0.     0.     0.     0.     0.     0.     0.     0.     0.     0.     0.     0.     0.     0.     0.   ]\n",
      "10\n",
      "[ 0.924  0.979  0.83   1.     0.941  0.97   0.879  0.872  0.943  0.871  0.876  0.     0.     0.     0.     0.     0.     0.     0.     0.     0.     0.     0.     0.     0.   ]\n",
      "[ 0.989  0.989  0.968  1.     0.965  0.993  1.     0.966  0.997  0.95   0.876  0.     0.     0.     0.     0.     0.     0.     0.     0.     0.     0.     0.     0.     0.   ]\n",
      "[ 1.     0.989  0.993  1.     1.     1.     1.     1.     0.972  1.     0.974  0.     0.     0.     0.     0.     0.     0.     0.     0.     0.     0.     0.     0.     0.   ]\n",
      "[ 0.997  0.887  0.963  0.987  0.875  1.     0.753  0.911  0.987  1.     0.983  0.     0.     0.     0.     0.     0.     0.     0.     0.     0.     0.     0.     0.     0.   ]\n",
      "[ 0.916  0.853  0.99   0.866  0.87   0.964  0.73   0.699  0.552  0.932  0.628  0.     0.     0.     0.     0.     0.     0.     0.     0.     0.     0.     0.     0.     0.   ]\n",
      "[ 0.798  0.691  0.257  0.997  0.242  0.664  0.677  0.879  0.908  0.01   0.568  0.     0.     0.     0.     0.     0.     0.     0.     0.     0.     0.     0.     0.     0.   ]\n",
      "11\n",
      "[ 0.924  0.979  0.83   1.     0.941  0.97   0.879  0.872  0.943  0.871  0.876  0.994  0.     0.     0.     0.     0.     0.     0.     0.     0.     0.     0.     0.     0.   ]\n",
      "[ 0.989  0.989  0.968  1.     0.965  0.993  1.     0.966  0.997  0.95   0.876  0.994  0.     0.     0.     0.     0.     0.     0.     0.     0.     0.     0.     0.     0.   ]\n",
      "[ 1.     0.989  0.993  1.     1.     1.     1.     1.     0.972  1.     0.974  1.     0.     0.     0.     0.     0.     0.     0.     0.     0.     0.     0.     0.     0.   ]\n",
      "[ 0.997  0.887  0.963  0.987  0.875  1.     0.753  0.911  0.987  1.     0.983  0.994  0.     0.     0.     0.     0.     0.     0.     0.     0.     0.     0.     0.     0.   ]\n",
      "[ 0.916  0.853  0.99   0.866  0.87   0.964  0.73   0.699  0.552  0.932  0.628  0.991  0.     0.     0.     0.     0.     0.     0.     0.     0.     0.     0.     0.     0.   ]\n",
      "[ 0.798  0.691  0.257  0.997  0.242  0.664  0.677  0.879  0.908  0.01   0.568  0.059  0.     0.     0.     0.     0.     0.     0.     0.     0.     0.     0.     0.     0.   ]\n",
      "12\n",
      "[ 0.924  0.979  0.83   1.     0.941  0.97   0.879  0.872  0.943  0.871  0.876  0.994  0.794  0.     0.     0.     0.     0.     0.     0.     0.     0.     0.     0.     0.   ]\n",
      "[ 0.989  0.989  0.968  1.     0.965  0.993  1.     0.966  0.997  0.95   0.876  0.994  0.989  0.     0.     0.     0.     0.     0.     0.     0.     0.     0.     0.     0.   ]\n",
      "[ 1.     0.989  0.993  1.     1.     1.     1.     1.     0.972  1.     0.974  1.     0.956  0.     0.     0.     0.     0.     0.     0.     0.     0.     0.     0.     0.   ]\n",
      "[ 0.997  0.887  0.963  0.987  0.875  1.     0.753  0.911  0.987  1.     0.983  0.994  0.923  0.     0.     0.     0.     0.     0.     0.     0.     0.     0.     0.     0.   ]\n",
      "[ 0.916  0.853  0.99   0.866  0.87   0.964  0.73   0.699  0.552  0.932  0.628  0.991  0.902  0.     0.     0.     0.     0.     0.     0.     0.     0.     0.     0.     0.   ]\n",
      "[ 0.798  0.691  0.257  0.997  0.242  0.664  0.677  0.879  0.908  0.01   0.568  0.059  0.756  0.     0.     0.     0.     0.     0.     0.     0.     0.     0.     0.     0.   ]\n",
      "13\n",
      "[ 0.924  0.979  0.83   1.     0.941  0.97   0.879  0.872  0.943  0.871  0.876  0.994  0.794  0.915  0.     0.     0.     0.     0.     0.     0.     0.     0.     0.     0.   ]\n",
      "[ 0.989  0.989  0.968  1.     0.965  0.993  1.     0.966  0.997  0.95   0.876  0.994  0.989  0.937  0.     0.     0.     0.     0.     0.     0.     0.     0.     0.     0.   ]\n",
      "[ 1.     0.989  0.993  1.     1.     1.     1.     1.     0.972  1.     0.974  1.     0.956  1.     0.     0.     0.     0.     0.     0.     0.     0.     0.     0.     0.   ]\n",
      "[ 0.997  0.887  0.963  0.987  0.875  1.     0.753  0.911  0.987  1.     0.983  0.994  0.923  0.901  0.     0.     0.     0.     0.     0.     0.     0.     0.     0.     0.   ]\n",
      "[ 0.916  0.853  0.99   0.866  0.87   0.964  0.73   0.699  0.552  0.932  0.628  0.991  0.902  0.963  0.     0.     0.     0.     0.     0.     0.     0.     0.     0.     0.   ]\n",
      "[ 0.798  0.691  0.257  0.997  0.242  0.664  0.677  0.879  0.908  0.01   0.568  0.059  0.756  0.587  0.     0.     0.     0.     0.     0.     0.     0.     0.     0.     0.   ]\n",
      "14\n",
      "[ 0.924  0.979  0.83   1.     0.941  0.97   0.879  0.872  0.943  0.871  0.876  0.994  0.794  0.915  0.785  0.     0.     0.     0.     0.     0.     0.     0.     0.     0.   ]\n",
      "[ 0.989  0.989  0.968  1.     0.965  0.993  1.     0.966  0.997  0.95   0.876  0.994  0.989  0.937  0.838  0.     0.     0.     0.     0.     0.     0.     0.     0.     0.   ]\n",
      "[ 1.     0.989  0.993  1.     1.     1.     1.     1.     0.972  1.     0.974  1.     0.956  1.     1.     0.     0.     0.     0.     0.     0.     0.     0.     0.     0.   ]\n",
      "[ 0.997  0.887  0.963  0.987  0.875  1.     0.753  0.911  0.987  1.     0.983  0.994  0.923  0.901  0.899  0.     0.     0.     0.     0.     0.     0.     0.     0.     0.   ]\n",
      "[ 0.916  0.853  0.99   0.866  0.87   0.964  0.73   0.699  0.552  0.932  0.628  0.991  0.902  0.963  0.831  0.     0.     0.     0.     0.     0.     0.     0.     0.     0.   ]\n",
      "[ 0.798  0.691  0.257  0.997  0.242  0.664  0.677  0.879  0.908  0.01   0.568  0.059  0.756  0.587  0.813  0.     0.     0.     0.     0.     0.     0.     0.     0.     0.   ]\n",
      "15\n",
      "[ 0.924  0.979  0.83   1.     0.941  0.97   0.879  0.872  0.943  0.871  0.876  0.994  0.794  0.915  0.785  0.711  0.     0.     0.     0.     0.     0.     0.     0.     0.   ]\n",
      "[ 0.989  0.989  0.968  1.     0.965  0.993  1.     0.966  0.997  0.95   0.876  0.994  0.989  0.937  0.838  0.966  0.     0.     0.     0.     0.     0.     0.     0.     0.   ]\n",
      "[ 1.     0.989  0.993  1.     1.     1.     1.     1.     0.972  1.     0.974  1.     0.956  1.     1.     1.     0.     0.     0.     0.     0.     0.     0.     0.     0.   ]\n",
      "[ 0.997  0.887  0.963  0.987  0.875  1.     0.753  0.911  0.987  1.     0.983  0.994  0.923  0.901  0.899  0.997  0.     0.     0.     0.     0.     0.     0.     0.     0.   ]\n",
      "[ 0.916  0.853  0.99   0.866  0.87   0.964  0.73   0.699  0.552  0.932  0.628  0.991  0.902  0.963  0.831  0.677  0.     0.     0.     0.     0.     0.     0.     0.     0.   ]\n",
      "[ 0.798  0.691  0.257  0.997  0.242  0.664  0.677  0.879  0.908  0.01   0.568  0.059  0.756  0.587  0.813  0.879  0.     0.     0.     0.     0.     0.     0.     0.     0.   ]\n",
      "16\n"
     ]
    },
    {
     "name": "stdout",
     "output_type": "stream",
     "text": [
      "[ 0.924  0.979  0.83   1.     0.941  0.97   0.879  0.872  0.943  0.871  0.876  0.994  0.794  0.915  0.785  0.711  0.939  0.     0.     0.     0.     0.     0.     0.     0.   ]\n",
      "[ 0.989  0.989  0.968  1.     0.965  0.993  1.     0.966  0.997  0.95   0.876  0.994  0.989  0.937  0.838  0.966  1.     0.     0.     0.     0.     0.     0.     0.     0.   ]\n",
      "[ 1.     0.989  0.993  1.     1.     1.     1.     1.     0.972  1.     0.974  1.     0.956  1.     1.     1.     0.986  0.     0.     0.     0.     0.     0.     0.     0.   ]\n",
      "[ 0.997  0.887  0.963  0.987  0.875  1.     0.753  0.911  0.987  1.     0.983  0.994  0.923  0.901  0.899  0.997  0.943  0.     0.     0.     0.     0.     0.     0.     0.   ]\n",
      "[ 0.916  0.853  0.99   0.866  0.87   0.964  0.73   0.699  0.552  0.932  0.628  0.991  0.902  0.963  0.831  0.677  0.594  0.     0.     0.     0.     0.     0.     0.     0.   ]\n",
      "[ 0.798  0.691  0.257  0.997  0.242  0.664  0.677  0.879  0.908  0.01   0.568  0.059  0.756  0.587  0.813  0.879  0.868  0.     0.     0.     0.     0.     0.     0.     0.   ]\n",
      "17\n",
      "[ 0.924  0.979  0.83   1.     0.941  0.97   0.879  0.872  0.943  0.871  0.876  0.994  0.794  0.915  0.785  0.711  0.939  0.923  0.     0.     0.     0.     0.     0.     0.   ]\n",
      "[ 0.989  0.989  0.968  1.     0.965  0.993  1.     0.966  0.997  0.95   0.876  0.994  0.989  0.937  0.838  0.966  1.     0.99   0.     0.     0.     0.     0.     0.     0.   ]\n",
      "[ 1.     0.989  0.993  1.     1.     1.     1.     1.     0.972  1.     0.974  1.     0.956  1.     1.     1.     0.986  1.     0.     0.     0.     0.     0.     0.     0.   ]\n",
      "[ 0.997  0.887  0.963  0.987  0.875  1.     0.753  0.911  0.987  1.     0.983  0.994  0.923  0.901  0.899  0.997  0.943  0.986  0.     0.     0.     0.     0.     0.     0.   ]\n",
      "[ 0.916  0.853  0.99   0.866  0.87   0.964  0.73   0.699  0.552  0.932  0.628  0.991  0.902  0.963  0.831  0.677  0.594  0.98   0.     0.     0.     0.     0.     0.     0.   ]\n",
      "[ 0.798  0.691  0.257  0.997  0.242  0.664  0.677  0.879  0.908  0.01   0.568  0.059  0.756  0.587  0.813  0.879  0.868  0.417  0.     0.     0.     0.     0.     0.     0.   ]\n",
      "18\n",
      "[ 0.924  0.979  0.83   1.     0.941  0.97   0.879  0.872  0.943  0.871  0.876  0.994  0.794  0.915  0.785  0.711  0.939  0.923  1.     0.     0.     0.     0.     0.     0.   ]\n",
      "[ 0.989  0.989  0.968  1.     0.965  0.993  1.     0.966  0.997  0.95   0.876  0.994  0.989  0.937  0.838  0.966  1.     0.99   0.989  0.     0.     0.     0.     0.     0.   ]\n",
      "[ 1.     0.989  0.993  1.     1.     1.     1.     1.     0.972  1.     0.974  1.     0.956  1.     1.     1.     0.986  1.     0.953  0.     0.     0.     0.     0.     0.   ]\n",
      "[ 0.997  0.887  0.963  0.987  0.875  1.     0.753  0.911  0.987  1.     0.983  0.994  0.923  0.901  0.899  0.997  0.943  0.986  0.989  0.     0.     0.     0.     0.     0.   ]\n",
      "[ 0.916  0.853  0.99   0.866  0.87   0.964  0.73   0.699  0.552  0.932  0.628  0.991  0.902  0.963  0.831  0.677  0.594  0.98   0.846  0.     0.     0.     0.     0.     0.   ]\n",
      "[ 0.798  0.691  0.257  0.997  0.242  0.664  0.677  0.879  0.908  0.01   0.568  0.059  0.756  0.587  0.813  0.879  0.868  0.417  0.009  0.     0.     0.     0.     0.     0.   ]\n",
      "19\n",
      "[ 0.924  0.979  0.83   1.     0.941  0.97   0.879  0.872  0.943  0.871  0.876  0.994  0.794  0.915  0.785  0.711  0.939  0.923  1.     0.717  0.     0.     0.     0.     0.   ]\n",
      "[ 0.989  0.989  0.968  1.     0.965  0.993  1.     0.966  0.997  0.95   0.876  0.994  0.989  0.937  0.838  0.966  1.     0.99   0.989  0.924  0.     0.     0.     0.     0.   ]\n",
      "[ 1.     0.989  0.993  1.     1.     1.     1.     1.     0.972  1.     0.974  1.     0.956  1.     1.     1.     0.986  1.     0.953  0.809  0.     0.     0.     0.     0.   ]\n",
      "[ 0.997  0.887  0.963  0.987  0.875  1.     0.753  0.911  0.987  1.     0.983  0.994  0.923  0.901  0.899  0.997  0.943  0.986  0.989  0.658  0.     0.     0.     0.     0.   ]\n",
      "[ 0.916  0.853  0.99   0.866  0.87   0.964  0.73   0.699  0.552  0.932  0.628  0.991  0.902  0.963  0.831  0.677  0.594  0.98   0.846  0.505  0.     0.     0.     0.     0.   ]\n",
      "[ 0.798  0.691  0.257  0.997  0.242  0.664  0.677  0.879  0.908  0.01   0.568  0.059  0.756  0.587  0.813  0.879  0.868  0.417  0.009  0.635  0.     0.     0.     0.     0.   ]\n",
      "20\n",
      "[ 0.924  0.979  0.83   1.     0.941  0.97   0.879  0.872  0.943  0.871  0.876  0.994  0.794  0.915  0.785  0.711  0.939  0.923  1.     0.717  0.963  0.     0.     0.     0.   ]\n",
      "[ 0.989  0.989  0.968  1.     0.965  0.993  1.     0.966  0.997  0.95   0.876  0.994  0.989  0.937  0.838  0.966  1.     0.99   0.989  0.924  0.963  0.     0.     0.     0.   ]\n",
      "[ 1.     0.989  0.993  1.     1.     1.     1.     1.     0.972  1.     0.974  1.     0.956  1.     1.     1.     0.986  1.     0.953  0.809  0.987  0.     0.     0.     0.   ]\n",
      "[ 0.997  0.887  0.963  0.987  0.875  1.     0.753  0.911  0.987  1.     0.983  0.994  0.923  0.901  0.899  0.997  0.943  0.986  0.989  0.658  0.993  0.     0.     0.     0.   ]\n",
      "[ 0.916  0.853  0.99   0.866  0.87   0.964  0.73   0.699  0.552  0.932  0.628  0.991  0.902  0.963  0.831  0.677  0.594  0.98   0.846  0.505  0.797  0.     0.     0.     0.   ]\n",
      "[ 0.798  0.691  0.257  0.997  0.242  0.664  0.677  0.879  0.908  0.01   0.568  0.059  0.756  0.587  0.813  0.879  0.868  0.417  0.009  0.635  0.93   0.     0.     0.     0.   ]\n",
      "21\n",
      "[ 0.924  0.979  0.83   1.     0.941  0.97   0.879  0.872  0.943  0.871  0.876  0.994  0.794  0.915  0.785  0.711  0.939  0.923  1.     0.717  0.963  0.925  0.     0.     0.   ]\n",
      "[ 0.989  0.989  0.968  1.     0.965  0.993  1.     0.966  0.997  0.95   0.876  0.994  0.989  0.937  0.838  0.966  1.     0.99   0.989  0.924  0.963  0.954  0.     0.     0.   ]\n",
      "[ 1.     0.989  0.993  1.     1.     1.     1.     1.     0.972  1.     0.974  1.     0.956  1.     1.     1.     0.986  1.     0.953  0.809  0.987  0.936  0.     0.     0.   ]\n",
      "[ 0.997  0.887  0.963  0.987  0.875  1.     0.753  0.911  0.987  1.     0.983  0.994  0.923  0.901  0.899  0.997  0.943  0.986  0.989  0.658  0.993  1.     0.     0.     0.   ]\n",
      "[ 0.916  0.853  0.99   0.866  0.87   0.964  0.73   0.699  0.552  0.932  0.628  0.991  0.902  0.963  0.831  0.677  0.594  0.98   0.846  0.505  0.797  0.687  0.     0.     0.   ]\n",
      "[ 0.798  0.691  0.257  0.997  0.242  0.664  0.677  0.879  0.908  0.01   0.568  0.059  0.756  0.587  0.813  0.879  0.868  0.417  0.009  0.635  0.93   0.068  0.     0.     0.   ]\n",
      "22\n",
      "[ 0.924  0.979  0.83   1.     0.941  0.97   0.879  0.872  0.943  0.871  0.876  0.994  0.794  0.915  0.785  0.711  0.939  0.923  1.     0.717  0.963  0.925  0.8    0.     0.   ]\n",
      "[ 0.989  0.989  0.968  1.     0.965  0.993  1.     0.966  0.997  0.95   0.876  0.994  0.989  0.937  0.838  0.966  1.     0.99   0.989  0.924  0.963  0.954  0.982  0.     0.   ]\n",
      "[ 1.     0.989  0.993  1.     1.     1.     1.     1.     0.972  1.     0.974  1.     0.956  1.     1.     1.     0.986  1.     0.953  0.809  0.987  0.936  0.983  0.     0.   ]\n",
      "[ 0.997  0.887  0.963  0.987  0.875  1.     0.753  0.911  0.987  1.     0.983  0.994  0.923  0.901  0.899  0.997  0.943  0.986  0.989  0.658  0.993  1.     1.     0.     0.   ]\n",
      "[ 0.916  0.853  0.99   0.866  0.87   0.964  0.73   0.699  0.552  0.932  0.628  0.991  0.902  0.963  0.831  0.677  0.594  0.98   0.846  0.505  0.797  0.687  0.842  0.     0.   ]\n",
      "[ 0.798  0.691  0.257  0.997  0.242  0.664  0.677  0.879  0.908  0.01   0.568  0.059  0.756  0.587  0.813  0.879  0.868  0.417  0.009  0.635  0.93   0.068  0.627  0.     0.   ]\n",
      "23\n",
      "[ 0.924  0.979  0.83   1.     0.941  0.97   0.879  0.872  0.943  0.871  0.876  0.994  0.794  0.915  0.785  0.711  0.939  0.923  1.     0.717  0.963  0.925  0.8    1.     0.   ]\n",
      "[ 0.989  0.989  0.968  1.     0.965  0.993  1.     0.966  0.997  0.95   0.876  0.994  0.989  0.937  0.838  0.966  1.     0.99   0.989  0.924  0.963  0.954  0.982  1.     0.   ]\n",
      "[ 1.     0.989  0.993  1.     1.     1.     1.     1.     0.972  1.     0.974  1.     0.956  1.     1.     1.     0.986  1.     0.953  0.809  0.987  0.936  0.983  1.     0.   ]\n",
      "[ 0.997  0.887  0.963  0.987  0.875  1.     0.753  0.911  0.987  1.     0.983  0.994  0.923  0.901  0.899  0.997  0.943  0.986  0.989  0.658  0.993  1.     1.     0.827  0.   ]\n",
      "[ 0.916  0.853  0.99   0.866  0.87   0.964  0.73   0.699  0.552  0.932  0.628  0.991  0.902  0.963  0.831  0.677  0.594  0.98   0.846  0.505  0.797  0.687  0.842  0.96   0.   ]\n",
      "[ 0.798  0.691  0.257  0.997  0.242  0.664  0.677  0.879  0.908  0.01   0.568  0.059  0.756  0.587  0.813  0.879  0.868  0.417  0.009  0.635  0.93   0.068  0.627  0.29   0.   ]\n",
      "24\n"
     ]
    },
    {
     "name": "stdout",
     "output_type": "stream",
     "text": [
      "[ 0.924  0.979  0.83   1.     0.941  0.97   0.879  0.872  0.943  0.871  0.876  0.994  0.794  0.915  0.785  0.711  0.939  0.923  1.     0.717  0.963  0.925  0.8    1.     0.92 ]\n",
      "[ 0.989  0.989  0.968  1.     0.965  0.993  1.     0.966  0.997  0.95   0.876  0.994  0.989  0.937  0.838  0.966  1.     0.99   0.989  0.924  0.963  0.954  0.982  1.     0.942]\n",
      "[ 1.     0.989  0.993  1.     1.     1.     1.     1.     0.972  1.     0.974  1.     0.956  1.     1.     1.     0.986  1.     0.953  0.809  0.987  0.936  0.983  1.     1.   ]\n",
      "[ 0.997  0.887  0.963  0.987  0.875  1.     0.753  0.911  0.987  1.     0.983  0.994  0.923  0.901  0.899  0.997  0.943  0.986  0.989  0.658  0.993  1.     1.     0.827  1.   ]\n",
      "[ 0.916  0.853  0.99   0.866  0.87   0.964  0.73   0.699  0.552  0.932  0.628  0.991  0.902  0.963  0.831  0.677  0.594  0.98   0.846  0.505  0.797  0.687  0.842  0.96   0.912]\n",
      "[ 0.798  0.691  0.257  0.997  0.242  0.664  0.677  0.879  0.908  0.01   0.568  0.059  0.756  0.587  0.813  0.879  0.868  0.417  0.009  0.635  0.93   0.068  0.627  0.29   0.41 ]\n"
     ]
    }
   ],
   "source": [
    "warnings.filterwarnings('ignore') \n",
    "np.random.seed(seed=1)\n",
    "\n",
    "### DIFFUSION CLASSIFIER\n",
    "df1gft_params = {'lambda_factor':[0.1,0.2,0.3,0.4,0.5],\n",
    "              'tau_factor':np.arange(0.2,2.0,0.1),\n",
    "              'rho':np.linspace(0.001,0.2,6)}\n",
    "df1gftclassifier = GridSearchCV(Diffusion_GFT_Classifier(M=M_a,t=1),\n",
    "                                param_grid=df1gft_params, cv=5, verbose=False)\n",
    "\n",
    "df2gft_params = {'lambda_factor':[0.2,0.3,0.4,0.5,0.6],\n",
    "              'tau_factor':np.arange(0.2,2.0,0.1),\n",
    "              'rho':np.linspace(0.001,0.2,6)}\n",
    "df2gftclassifier = GridSearchCV(Diffusion_GFT_Classifier(M=M_a,t=2),\n",
    "                                param_grid=df2gft_params, cv=5, verbose=False)\n",
    "\n",
    "### CONVENTIONAL GFT CLASSIFIER\n",
    "gft_params = {'lambda_factor':np.arange(0.1,0.7,0.05),\n",
    "              'tau_factor':np.arange(0.2,2.1,0.1)}\n",
    "gftclassifier = GridSearchCV(Classic_GFT_Classifier(L=L_a), gft_params, cv=5, verbose=False)\n",
    "\n",
    "### SHORTEST PATH CLASSIFIER\n",
    "sp1classifier = GridSearchCV(Classic_GFT_Classifier(L=L_sp[:,:,0]), gft_params, cv=5, verbose = False)\n",
    "sp2classifier = GridSearchCV(Classic_GFT_Classifier(L=L_sp[:,:,1]), gft_params, cv=5, verbose = False)\n",
    "sp3classifier = GridSearchCV(Classic_GFT_Classifier(L=L_sp[:,:,2]), gft_params, cv=5, verbose = False)\n",
    "\n",
    "### Heimowitz Markov Classifier\n",
    "mrk_params = {'lambda_factor':np.arange(0.4,0.9,0.05),\n",
    "              'tau_factor':np.arange(0.2,2.1,0.1)}\n",
    "mrkclassifier = GridSearchCV(Markov_GFT_Classifier(Transform=transform_heimowitz,lambdas=lambdas_heimowitz), mrk_params, cv=5, verbose=False)\n",
    "\n",
    "\n",
    "im_size = 200;\n",
    "xdim = np.linspace(0,1,im_size)\n",
    "ydim = np.linspace(0,1,im_size)\n",
    "X,Y = np.meshgrid(xdim,ydim)\n",
    "\n",
    "noise_level = 0.1\n",
    "fx = 1\n",
    "fy = 2\n",
    "fnx = 5\n",
    "fny = 6\n",
    "T_max = 600\n",
    "\n",
    "number_of_runs = 25\n",
    "score_df1 = np.zeros(number_of_runs)\n",
    "score_df2 = np.zeros(number_of_runs)\n",
    "score_gft = np.zeros(number_of_runs)\n",
    "score_sp1 = np.zeros(number_of_runs)\n",
    "score_sp2 = np.zeros(number_of_runs)\n",
    "score_sp3 = np.zeros(number_of_runs)\n",
    "score_mrk = np.zeros(number_of_runs)\n",
    "\n",
    "for run in range(number_of_runs):\n",
    "    print run\n",
    "    px = 0\n",
    "    py = 0\n",
    "    Xdata = np.zeros((N,T_max))\n",
    "    Ydata = np.zeros(T_max)\n",
    "\n",
    "    for t in range(T_max/2):\n",
    "    #     fx = fx + 0.1*(np.random.rand()-0.5)\n",
    "        px = px + 0.1*(np.random.rand()-0.5)\n",
    "\n",
    "    #     fy = fy + 0.05*(np.random.rand()-0.5)\n",
    "        py = py + 0.05*(np.random.rand()-0.5)\n",
    "\n",
    "        Xdata[:,t] = np.cos(2*np.pi*fx*features[:,0] + px) + np.cos(2*np.pi*fy*features[:,1] + py)\n",
    "        Ydata[t] = 0\n",
    "\n",
    "    for t in range(T_max/2,T_max):\n",
    "#         fx = fx + 0.1*(np.random.rand()-0.5)\n",
    "        px = px + 0.1*(np.random.rand()-0.5)\n",
    "\n",
    "#         fy = fy + 0.05*(np.random.rand()-0.5)\n",
    "        py = py + 0.05*(np.random.rand()-0.5)\n",
    "\n",
    "        Xdata[:,t] = np.cos(2*np.pi*fx*features[:,0] + px) + np.cos(2*np.pi*fy*features[:,1] + py) + noise_level*(np.cos(2*np.pi*fnx*features[:,0]) + np.cos(2*np.pi*fny*features[:,1]))\n",
    "        Ydata[t] = 1\n",
    "\n",
    "    Xtrain,Xtest,Ytrain,Ytest = train_test_split(Xdata.T,Ydata,test_size=0.5)\n",
    "#     Xtrain = Xtrain.T\n",
    "#     Xtest = Xtest.T\n",
    "    \n",
    "    df1class = df1gftclassifier.fit(Xtrain,Ytrain)\n",
    "    df2class = df2gftclassifier.fit(Xtrain,Ytrain)\n",
    "    gftclass = gftclassifier.fit(Xtrain,Ytrain)\n",
    "#     sp1class = sp1classifier.fit(Xtrain,Ytrain)\n",
    "    sp2class = sp2classifier.fit(Xtrain,Ytrain)\n",
    "    sp3class = sp3classifier.fit(Xtrain,Ytrain)\n",
    "    mrkclass = mrkclassifier.fit(Xtrain,Ytrain)\n",
    "\n",
    "#     print df1gftclassifier.best_params_\n",
    "    score_df1[run] = df1gftclassifier.best_estimator_.score(Xtest,Ytest)\n",
    "    score_df2[run] = df2gftclassifier.best_estimator_.score(Xtest,Ytest)\n",
    "    score_gft[run] = gftclassifier.best_estimator_.score(Xtest,Ytest)\n",
    "#     score_sp1[run] = sp1classifier.best_estimator_.score(Xtest,Ytest)\n",
    "    score_sp2[run] = sp2classifier.best_estimator_.score(Xtest,Ytest)\n",
    "    score_sp3[run] = sp3classifier.best_estimator_.score(Xtest,Ytest)\n",
    "    score_mrk[run] = mrkclassifier.best_estimator_.score(Xtest,Ytest)\n",
    "    \n",
    "    print score_gft\n",
    "    print score_df1\n",
    "    print score_df2\n",
    "    print score_sp2\n",
    "    print score_sp3\n",
    "    print score_mrk\n",
    "    \n",
    "# plt.figure(figsize=(12,8))\n",
    "# plt.subplot(1,3,1)\n",
    "# plt.imshow(np.cos(2*np.pi*fx*X + px) + np.cos(2*np.pi*fy*Y + py))\n",
    "# plt.subplot(1,3,2)\n",
    "# plt.imshow(0.1*(np.cos(2*np.pi*fnx*X + px) + np.cos(2*np.pi*fny*Y + py)))\n",
    "# plt.subplot(1,3,3)\n",
    "# plt.imshow(np.cos(2*np.pi*fx*X + px) + np.cos(2*np.pi*fy*Y + py) + 0.1*(np.cos(2*np.pi*fnx*X + px) + np.cos(2*np.pi*fny*Y + py)))\n",
    "# plt.show()"
   ]
  },
  {
   "cell_type": "code",
   "execution_count": null,
   "metadata": {
    "collapsed": true
   },
   "outputs": [],
   "source": [
    "    print score_gft\n",
    "    print score_df1\n",
    "    print score_df2\n",
    "    print score_sp2\n",
    "    print score_sp3\n",
    "    print score_mrk"
   ]
  },
  {
   "cell_type": "code",
   "execution_count": null,
   "metadata": {
    "collapsed": true
   },
   "outputs": [],
   "source": [
    "[0.869 0.996 1.    0.993]\n",
    "[0.987 0.996 1.    0.993]\n",
    "[1.    1.    1.    0.993]\n",
    "[1.    1.    0.856 0.939]\n",
    "[0.769 0.377 0.86  0.983]\n",
    "[0.777 0.966 0.879 0.939]"
   ]
  },
  {
   "cell_type": "code",
   "execution_count": null,
   "metadata": {
    "collapsed": true
   },
   "outputs": [],
   "source": [
    "[1.    0.959 1.    1.   ]\n",
    "[1.    0.959 1.    1.   ]\n",
    "[1.    0.996 1.    0.973]\n",
    "[0.931 1.    0.865 0.877]\n",
    "[0.229 0.12  0.678 0.192]\n",
    "[0.953 0.983 0.99  1.   ]"
   ]
  },
  {
   "cell_type": "code",
   "execution_count": null,
   "metadata": {
    "collapsed": true
   },
   "outputs": [],
   "source": [
    "score_df1.mean()"
   ]
  },
  {
   "cell_type": "code",
   "execution_count": null,
   "metadata": {
    "collapsed": true
   },
   "outputs": [],
   "source": [
    "np.linspace(0.001,0.2,6)"
   ]
  },
  {
   "cell_type": "code",
   "execution_count": null,
   "metadata": {
    "collapsed": true
   },
   "outputs": [],
   "source": [
    "print score_df1,'\\n\\n',score_gft"
   ]
  },
  {
   "cell_type": "code",
   "execution_count": null,
   "metadata": {
    "collapsed": true
   },
   "outputs": [],
   "source": [
    "print score_sp1,'\\n',score_sp2,'\\n',score_sp3"
   ]
  },
  {
   "cell_type": "code",
   "execution_count": null,
   "metadata": {
    "collapsed": true
   },
   "outputs": [],
   "source": [
    "print score_mrk"
   ]
  },
  {
   "cell_type": "code",
   "execution_count": null,
   "metadata": {
    "collapsed": true
   },
   "outputs": [],
   "source": [
    "print score_df1.mean()\n",
    "print score_df2.mean()\n",
    "print score_gft.mean()\n",
    "print score_sp2.mean()\n",
    "print score_sp3.mean()\n",
    "print score_mrk.mean()"
   ]
  },
  {
   "cell_type": "code",
   "execution_count": 7,
   "metadata": {
    "collapsed": true
   },
   "outputs": [],
   "source": [
    "scores = {'df1':score_df1, 'gft':score_gft, 'df2':score_df2, 'sp2':score_sp2, 'sp3':score_sp3, 'mrk':score_mrk}"
   ]
  },
  {
   "cell_type": "code",
   "execution_count": 8,
   "metadata": {},
   "outputs": [
    {
     "data": {
      "text/plain": [
       "{'df1': array([ 0.989,  0.989,  0.968,  1.   ,  0.965,  0.993,  1.   ,  0.966,  0.997,  0.95 ,  0.876,  0.994,  0.989,  0.937,  0.838,  0.966,  1.   ,  0.99 ,  0.989,  0.924,  0.963,  0.954,  0.982,  1.   ,  0.942]),\n",
       " 'df2': array([ 1.   ,  0.989,  0.993,  1.   ,  1.   ,  1.   ,  1.   ,  1.   ,  0.972,  1.   ,  0.974,  1.   ,  0.956,  1.   ,  1.   ,  1.   ,  0.986,  1.   ,  0.953,  0.809,  0.987,  0.936,  0.983,  1.   ,  1.   ]),\n",
       " 'gft': array([ 0.924,  0.979,  0.83 ,  1.   ,  0.941,  0.97 ,  0.879,  0.872,  0.943,  0.871,  0.876,  0.994,  0.794,  0.915,  0.785,  0.711,  0.939,  0.923,  1.   ,  0.717,  0.963,  0.925,  0.8  ,  1.   ,  0.92 ]),\n",
       " 'mrk': array([ 0.798,  0.691,  0.257,  0.997,  0.242,  0.664,  0.677,  0.879,  0.908,  0.01 ,  0.568,  0.059,  0.756,  0.587,  0.813,  0.879,  0.868,  0.417,  0.009,  0.635,  0.93 ,  0.068,  0.627,  0.29 ,  0.41 ]),\n",
       " 'sp2': array([ 0.997,  0.887,  0.963,  0.987,  0.875,  1.   ,  0.753,  0.911,  0.987,  1.   ,  0.983,  0.994,  0.923,  0.901,  0.899,  0.997,  0.943,  0.986,  0.989,  0.658,  0.993,  1.   ,  1.   ,  0.827,  1.   ]),\n",
       " 'sp3': array([ 0.916,  0.853,  0.99 ,  0.866,  0.87 ,  0.964,  0.73 ,  0.699,  0.552,  0.932,  0.628,  0.991,  0.902,  0.963,  0.831,  0.677,  0.594,  0.98 ,  0.846,  0.505,  0.797,  0.687,  0.842,  0.96 ,  0.912])}"
      ]
     },
     "execution_count": 8,
     "metadata": {},
     "output_type": "execute_result"
    }
   ],
   "source": [
    "scores"
   ]
  },
  {
   "cell_type": "code",
   "execution_count": 9,
   "metadata": {
    "collapsed": true
   },
   "outputs": [],
   "source": [
    "outfile = open('scores_2Dsurface_20201604.pkl','wb')\n",
    "pickle.dump(scores, outfile)\n",
    "outfile.close()"
   ]
  },
  {
   "cell_type": "code",
   "execution_count": null,
   "metadata": {
    "collapsed": true
   },
   "outputs": [],
   "source": [
    "score_df1.mean()"
   ]
  },
  {
   "cell_type": "code",
   "execution_count": null,
   "metadata": {
    "collapsed": true
   },
   "outputs": [],
   "source": [
    "scores_means = np.array((score_gft.mean(),score_df1.mean(),score_df2.mean(),score_sp2.mean(),score_sp3.mean(),score_mrk.mean()))\n",
    "scores_std = np.array((score_gft.std(),score_df1.std(),score_df2.std(),score_sp2.std(),score_sp3.std(),score_mrk.std()))"
   ]
  },
  {
   "cell_type": "code",
   "execution_count": null,
   "metadata": {
    "collapsed": true
   },
   "outputs": [],
   "source": [
    "scores_means"
   ]
  },
  {
   "cell_type": "code",
   "execution_count": null,
   "metadata": {
    "collapsed": true
   },
   "outputs": [],
   "source": [
    "graph_dict = {'features':features}"
   ]
  },
  {
   "cell_type": "code",
   "execution_count": null,
   "metadata": {
    "collapsed": true
   },
   "outputs": [],
   "source": [
    "graph_dict"
   ]
  },
  {
   "cell_type": "code",
   "execution_count": null,
   "metadata": {
    "collapsed": true
   },
   "outputs": [],
   "source": [
    "outfile = open('graph_20201504.pkl','wb')\n",
    "pickle.dump(graph_dict, outfile)\n",
    "outfile.close()"
   ]
  },
  {
   "cell_type": "code",
   "execution_count": null,
   "metadata": {
    "collapsed": true
   },
   "outputs": [],
   "source": [
    "plt.plot(scores_means)\n",
    "plt.show()"
   ]
  },
  {
   "cell_type": "code",
   "execution_count": null,
   "metadata": {
    "collapsed": true
   },
   "outputs": [],
   "source": [
    "scores_means"
   ]
  },
  {
   "cell_type": "code",
   "execution_count": null,
   "metadata": {
    "collapsed": true
   },
   "outputs": [],
   "source": [
    "stop here"
   ]
  },
  {
   "cell_type": "markdown",
   "metadata": {},
   "source": [
    "## Training the classifier"
   ]
  },
  {
   "cell_type": "markdown",
   "metadata": {},
   "source": [
    "### Method: DDs"
   ]
  },
  {
   "cell_type": "code",
   "execution_count": null,
   "metadata": {
    "collapsed": true
   },
   "outputs": [],
   "source": [
    "active_scales = [1]"
   ]
  },
  {
   "cell_type": "code",
   "execution_count": null,
   "metadata": {
    "collapsed": true
   },
   "outputs": [],
   "source": [
    "## TRAINING\n",
    "df1gft_params = {'lambda_factor':[0.1,0.3,0.5,0.6],\n",
    "              'tau_factor':np.arange(0.2,2.5,0.1),\n",
    "              'rho':np.linspace(0.001,0.2,5)}\n",
    "df1gftclassifier = GridSearchCV(Diffusion_GFT_Classifier(M=M_a,t=1),\n",
    "                                param_grid=df1gft_params, cv=5, verbose=False, n_jobs=-1)\n",
    "\n",
    "#################################################################################################\n",
    "\n",
    "df2gft_params = {'lambda_factor':[0.6,0.7,0.8,0.9],\n",
    "              'tau_factor':np.arange(0.5,2.5,0.1),\n",
    "              'rho':np.arange(0.2,0.85,0.1)}\n",
    "df2gftclassifier = GridSearchCV(Diffusion_GFT_Classifier(M=M_a,t=2),\n",
    "                                param_grid=df2gft_params, cv=5, verbose=False, n_jobs=-1)\n",
    "\n",
    "#################################################################################################\n",
    "\n",
    "df3gft_params = {'lambda_factor':[0.6,0.85,0.9,0.95],\n",
    "              'tau_factor':np.arange(0.5,2.5,0.1),\n",
    "              'rho':np.arange(0.2,0.85,0.1)}\n",
    "df3gftclassifier = GridSearchCV(Diffusion_GFT_Classifier(M=M_a,t=3),\n",
    "                                param_grid=df3gft_params, cv=5, verbose=False, n_jobs=-1)"
   ]
  },
  {
   "cell_type": "code",
   "execution_count": null,
   "metadata": {
    "collapsed": true
   },
   "outputs": [],
   "source": [
    "## TRAINING\n",
    "if np.isin(1,active_scales):\n",
    "    df1class = df1gftclassifier.fit(Xtrain.transpose(),Ytrain)\n",
    "    print 'Scale=1'\n",
    "    print 'Best paramters:', df1gftclassifier.best_params_\n",
    "    print 'Best f1 score', df1gftclassifier.best_score_\n",
    "    print ''\n",
    "    \n",
    "if np.isin(2,active_scales):\n",
    "    df2class = df2gftclassifier.fit(Xtrain.transpose(),Ytrain)\n",
    "    print 'Scale=2'\n",
    "    print 'Best paramters:', df2gftclassifier.best_params_\n",
    "    print 'Best f1 score', df2gftclassifier.best_score_\n",
    "    print ''\n",
    "if np.isin(3,active_scales):\n",
    "    df3class = df3gftclassifier.fit(Xtrain.transpose(),Ytrain)\n",
    "    print 'Scale=3'\n",
    "    print 'Best paramters:', df3gftclassifier.best_params_\n",
    "    print 'Best f1 score', df3gftclassifier.best_score_"
   ]
  },
  {
   "cell_type": "code",
   "execution_count": null,
   "metadata": {
    "collapsed": true
   },
   "outputs": [],
   "source": [
    "## TRAINING (plot confusion matrice)\n",
    "if np.isin(1,active_scales):\n",
    "    cm_train1 = confusion_matrix(Ytrain,df1gftclassifier.best_estimator_.predict(Xtrain.transpose()))\n",
    "    dm.plot_confusion_matrix(cm=cm_train1,classes=['Healthy','Anomaly'],normalize=True)\n",
    "    plt.show()\n",
    "\n",
    "if np.isin(2,active_scales):\n",
    "    cm_train2 = confusion_matrix(Ytrain,df2gftclassifier.best_estimator_.predict(Xtrain.transpose()))\n",
    "    dm.plot_confusion_matrix(cm=cm_train2,classes=['Healthy','Anomaly'],normalize=True)\n",
    "    plt.show()\n",
    "\n",
    "if np.isin(3,active_scales):\n",
    "    cm_train3 = confusion_matrix(Ytrain,df3gftclassifier.best_estimator_.predict(Xtrain.transpose()))\n",
    "    dm.plot_confusion_matrix(cm=cm_train3,classes=['Healthy','Anomaly'],normalize=True)\n",
    "    plt.show()"
   ]
  },
  {
   "cell_type": "markdown",
   "metadata": {},
   "source": [
    "### Method: Conventional"
   ]
  },
  {
   "cell_type": "code",
   "execution_count": null,
   "metadata": {
    "collapsed": true
   },
   "outputs": [],
   "source": [
    "gft_params = {'lambda_factor':np.arange(0.1,0.5,0.05),\n",
    "              'tau_factor':np.arange(0.2,2.1,0.1)}\n",
    "\n",
    "gftclassifier = GridSearchCV(Classic_GFT_Classifier(L=L_a), gft_params, cv=5, verbose=False)"
   ]
  },
  {
   "cell_type": "code",
   "execution_count": null,
   "metadata": {
    "collapsed": true
   },
   "outputs": [],
   "source": [
    "gftclass = gftclassifier.fit(Xtrain.transpose(),Ytrain)\n",
    "print 'Best paramters:', gftclassifier.best_params_\n",
    "print 'Best f1 score', gftclassifier.best_score_"
   ]
  },
  {
   "cell_type": "code",
   "execution_count": null,
   "metadata": {
    "collapsed": true
   },
   "outputs": [],
   "source": [
    "cm_train = confusion_matrix(Ytrain,gftclassifier.best_estimator_.predict(Xtrain.transpose()))\n",
    "cm_train_norm = cm_train.astype('float')/np.sum(cm_train,axis=1)\n",
    "dm.plot_confusion_matrix(cm=cm_train,classes=['Healthy','Anomaly'],normalize=True)\n",
    "plt.show()"
   ]
  },
  {
   "cell_type": "markdown",
   "metadata": {},
   "source": [
    "### Teste"
   ]
  },
  {
   "cell_type": "code",
   "execution_count": null,
   "metadata": {
    "collapsed": true
   },
   "outputs": [],
   "source": [
    "\n",
    "number_of_runs = 100\n",
    "score_df1 = np.zeros(number_of_runs)\n",
    "score_gft = np.zeros(number_of_runs)\n",
    "\n",
    "for run in range(number_of_runs):\n",
    "    px = 0\n",
    "    py = 0\n",
    "    T_max = 1000\n",
    "    Xtest = np.zeros((N,T_max))\n",
    "    Ytest = np.zeros(T_max)\n",
    "\n",
    "    for t in range(T_max/2):\n",
    "    #     fx = fx + 0.1*(np.random.rand()-0.5)\n",
    "        px = px + 0.1*(np.random.rand()-0.5)\n",
    "\n",
    "    #     fy = fy + 0.05*(np.random.rand()-0.5)\n",
    "        py = py + 0.05*(np.random.rand()-0.5)\n",
    "\n",
    "        Xtest[:,t] = np.cos(2*np.pi*fx*features[:,0] + px) + np.cos(2*np.pi*fy*features[:,1] + py)\n",
    "        Ytest[t] = 0\n",
    "\n",
    "    for t in range(T_max/2,T_max):\n",
    "        fx = fx + 0.1*(np.random.rand()-0.5)\n",
    "        px = px + 0.1*(np.random.rand()-0.5)\n",
    "\n",
    "        fy = fy + 0.05*(np.random.rand()-0.5)\n",
    "        py = fy + 0.05*(np.random.rand()-0.5)\n",
    "\n",
    "        Xtest[:,t] = np.cos(2*np.pi*fx*features[:,0] + px) + np.cos(2*np.pi*fy*features[:,1] + py) + noise_level*(np.cos(2*np.pi*fnx*features[:,0]) + np.cos(2*np.pi*fny*features[:,1]))\n",
    "        Ytest[t] = 1\n",
    "        \n",
    "    score_gft[run] = gftclassifier.best_estimator_.score(Xtest.transpose(),Ytest)\n",
    "    score_df1[run] = df1gftclassifier.best_estimator_.score(Xtest.transpose(),Ytest)\n",
    "\n",
    "print np.mean(score_df1),' ',np.std(score_df1)\n",
    "print np.mean(score_gft),' ',np.std(score_gft)"
   ]
  },
  {
   "cell_type": "code",
   "execution_count": null,
   "metadata": {
    "collapsed": true
   },
   "outputs": [],
   "source": [
    "score_df1"
   ]
  },
  {
   "cell_type": "code",
   "execution_count": null,
   "metadata": {
    "collapsed": true
   },
   "outputs": [],
   "source": [
    "score_gft"
   ]
  },
  {
   "cell_type": "code",
   "execution_count": null,
   "metadata": {
    "collapsed": true
   },
   "outputs": [],
   "source": [
    "1>np.nan"
   ]
  },
  {
   "cell_type": "code",
   "execution_count": null,
   "metadata": {
    "collapsed": true
   },
   "outputs": [],
   "source": [
    "print 'Step 1 - Test f1 score:', df1gftclassifier.best_estimator_.score(Xtest.transpose(),Ytest)\n",
    "# print 'Step 2 - Test f1 score:', df2gftclassifier.best_estimator_.score(Xtest.transpose(),Ytest)\n",
    "# print 'Step 3 - Test f1 score:', df3gftclassifier.best_estimator_.score(Xtest.transpose(),Ytest)\n",
    "print 'Laplace- Test f1 score:', gftclassifier.best_estimator_.score(Xtest.transpose(),Ytest)"
   ]
  },
  {
   "cell_type": "code",
   "execution_count": null,
   "metadata": {
    "collapsed": true
   },
   "outputs": [],
   "source": [
    "gftclassifier.best_estimator_.tau_"
   ]
  }
 ],
 "metadata": {
  "kernelspec": {
   "display_name": "Python 2",
   "language": "python",
   "name": "python2"
  },
  "language_info": {
   "codemirror_mode": {
    "name": "ipython",
    "version": 2
   },
   "file_extension": ".py",
   "mimetype": "text/x-python",
   "name": "python",
   "nbconvert_exporter": "python",
   "pygments_lexer": "ipython2",
   "version": "2.7.15"
  }
 },
 "nbformat": 4,
 "nbformat_minor": 2
}
